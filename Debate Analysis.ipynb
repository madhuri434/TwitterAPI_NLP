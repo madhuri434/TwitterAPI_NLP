{
 "cells": [
  {
   "cell_type": "markdown",
   "metadata": {},
   "source": [
    "# 1. Authenticate to Twitter"
   ]
  },
  {
   "cell_type": "code",
   "execution_count": 6,
   "metadata": {},
   "outputs": [],
   "source": [
    "# Import tweepy to work with the twitter API\n",
    "import tweepy as tw\n",
    "\n",
    "# Import numpy and pandas to work with dataframes\n",
    "import numpy as np\n",
    "import pandas as pd\n",
    "\n",
    "# Import seaborn and matplotlib for viz\n",
    "from matplotlib import pyplot as plt"
   ]
  },
  {
   "cell_type": "code",
   "execution_count": 7,
   "metadata": {},
   "outputs": [],
   "source": [
    "consumer_key = '9bFjpKZLWGcFqFJCUi33T4bt3'\n",
    "consumer_secret = 'E7fL3oliJ2bVafdGlcfxIpnvtHGT8dEQCZaeGiBbBGoPirZIYh'\n",
    "access_token = '92316322-0gW5xASmNqjC1VhOej8x0rPjqdpHe0Hgthz26dosj'\n",
    "access_token_secret = 'ocFSwpH7wvOTMTgDRdTybYX6aSH9qof128m1LoxVy46ka'"
   ]
  },
  {
   "cell_type": "code",
   "execution_count": 8,
   "metadata": {},
   "outputs": [],
   "source": [
    "# Authenticate\n",
    "auth = tw.OAuthHandler(consumer_key, consumer_secret)\n",
    "# Set Tokens\n",
    "auth.set_access_token(access_token, access_token_secret)\n",
    "# Instantiate API\n",
    "api = tw.API(auth, wait_on_rate_limit=True)"
   ]
  },
  {
   "cell_type": "code",
   "execution_count": 10,
   "metadata": {},
   "outputs": [
    {
     "name": "stdout",
     "output_type": "stream",
     "text": [
      "Found existing installation: tweepy 4.10.0\n",
      "Uninstalling tweepy-4.10.0:\n",
      "  Would remove:\n",
      "    /Users/vinay/opt/anaconda3/lib/python3.8/site-packages/tweepy-4.10.0.dist-info/*\n",
      "    /Users/vinay/opt/anaconda3/lib/python3.8/site-packages/tweepy/*\n",
      "Proceed (Y/n)? ^C\n",
      "\u001b[31mERROR: Operation cancelled by user\u001b[0m\u001b[31m\n",
      "\u001b[0m"
     ]
    }
   ],
   "source": [
    "!pip uninstall tweepy"
   ]
  },
  {
   "cell_type": "code",
   "execution_count": 5,
   "metadata": {},
   "outputs": [
    {
     "name": "stdout",
     "output_type": "stream",
     "text": [
      "Collecting git+https://github.com/tweepy/tweepy.git\n",
      "  Cloning https://github.com/tweepy/tweepy.git to /private/var/folders/c0/_vlzvy1575dg9fgv67kw89900000gn/T/pip-req-build-ircza_hn\n",
      "  Running command git clone --filter=blob:none --quiet https://github.com/tweepy/tweepy.git /private/var/folders/c0/_vlzvy1575dg9fgv67kw89900000gn/T/pip-req-build-ircza_hn\n",
      "  Resolved https://github.com/tweepy/tweepy.git to commit 598ea64d68ab3c27861e0f6dcf9bbce864dc3748\n",
      "  Preparing metadata (setup.py) ... \u001b[?25ldone\n",
      "\u001b[?25hRequirement already satisfied: oauthlib<4,>=3.2.0 in /Users/vinay/opt/anaconda3/lib/python3.8/site-packages (from tweepy==4.10.0) (3.2.0)\n",
      "Requirement already satisfied: requests<3,>=2.27.0 in /Users/vinay/opt/anaconda3/lib/python3.8/site-packages (from tweepy==4.10.0) (2.27.1)\n",
      "Requirement already satisfied: requests-oauthlib<2,>=1.2.0 in /Users/vinay/opt/anaconda3/lib/python3.8/site-packages (from tweepy==4.10.0) (1.3.0)\n",
      "Requirement already satisfied: certifi>=2017.4.17 in /Users/vinay/opt/anaconda3/lib/python3.8/site-packages (from requests<3,>=2.27.0->tweepy==4.10.0) (2020.12.5)\n",
      "Requirement already satisfied: charset-normalizer~=2.0.0 in /Users/vinay/opt/anaconda3/lib/python3.8/site-packages (from requests<3,>=2.27.0->tweepy==4.10.0) (2.0.12)\n",
      "Requirement already satisfied: urllib3<1.27,>=1.21.1 in /Users/vinay/opt/anaconda3/lib/python3.8/site-packages (from requests<3,>=2.27.0->tweepy==4.10.0) (1.26.4)\n",
      "Requirement already satisfied: idna<4,>=2.5 in /Users/vinay/opt/anaconda3/lib/python3.8/site-packages (from requests<3,>=2.27.0->tweepy==4.10.0) (2.10)\n",
      "\u001b[33mWARNING: You are using pip version 22.0.4; however, version 22.1.2 is available.\n",
      "You should consider upgrading via the '/Users/vinay/opt/anaconda3/bin/python -m pip install --upgrade pip' command.\u001b[0m\u001b[33m\n",
      "\u001b[0m"
     ]
    }
   ],
   "source": [
    "!pip install git+https://github.com/tweepy/tweepy.git"
   ]
  },
  {
   "cell_type": "markdown",
   "metadata": {},
   "source": [
    "# 2. Get Tweets"
   ]
  },
  {
   "cell_type": "code",
   "execution_count": 25,
   "metadata": {},
   "outputs": [],
   "source": [
    "import os\n",
    "import sys\n",
    "import json\n",
    "import time\n",
    "import math\n",
    "from tweepy import Cursor\n",
    "import tweepy\n",
    "from tweepy import OAuthHandler\n",
    "import datetime\n",
    "    "
   ]
  },
  {
   "cell_type": "code",
   "execution_count": 27,
   "metadata": {},
   "outputs": [
    {
     "name": "stdout",
     "output_type": "stream",
     "text": [
      "[{'Tweet': 'RT @wemimospot: No insults, point for point ONLY.\\n\\nCampaign for your candidate for #NigeriaDecides2023 \\n\\nWhy do you want Peter Obi?\\n\\nWhy is…', 'Timestamp': datetime.datetime(2022, 6, 13, 18, 47, 12, tzinfo=datetime.timezone.utc)}, {'Tweet': 'RT @WSjp_insight: 1st US #PresidentialDebate 09/29/2020 - hosted by cwru &amp; ClevelandClinic\\n🇺🇸#Debates2020 #COVID19 \\nhttps://t.co/65GKfg68lP…', 'Timestamp': datetime.datetime(2022, 6, 13, 13, 49, 43, tzinfo=datetime.timezone.utc)}, {'Tweet': \"RT @WSjp_insight: 1st US #PresidentialDebate'16 excerpts.. https://t.co/IAxalj6Gxi @bencasselman @MelbInstUOM,@LaurenRosewarne,@Government_…\", 'Timestamp': datetime.datetime(2022, 6, 13, 13, 49, 36, tzinfo=datetime.timezone.utc)}, {'Tweet': 'I so much anticipate the next Nig Presidential Debate, it will be flawless victory for Peter Obi and we will see ma… https://t.co/V405wfzNuH', 'Timestamp': datetime.datetime(2022, 6, 13, 12, 51, 35, tzinfo=datetime.timezone.utc)}, {'Tweet': 'No insults, point for point ONLY.\\n\\nCampaign for your candidate for #NigeriaDecides2023 \\n\\nWhy do you want Peter Obi?… https://t.co/agwAU9zs8D', 'Timestamp': datetime.datetime(2022, 6, 13, 11, 55, 51, tzinfo=datetime.timezone.utc)}, {'Tweet': 'RT @wemimospot: No insults, point for point ONLY.\\n\\nCampaign for your candidate for #NigeriaDecides2023 \\n\\nWhy do you want Peter Obi?\\n\\nWhy is…', 'Timestamp': datetime.datetime(2022, 6, 13, 9, 36, 29, tzinfo=datetime.timezone.utc)}, {'Tweet': 'RT @wemimospot: No insults, point for point ONLY.\\n\\nCampaign for your candidate for #NigeriaDecides2023 \\n\\nWhy do you want Peter Obi?\\n\\nWhy is…', 'Timestamp': datetime.datetime(2022, 6, 13, 9, 14, 49, tzinfo=datetime.timezone.utc)}, {'Tweet': 'RT @wemimospot: No insults, point for point ONLY.\\n\\nCampaign for your candidate for #NigeriaDecides2023 \\n\\nWhy do you want Peter Obi?\\n\\nWhy is…', 'Timestamp': datetime.datetime(2022, 6, 13, 7, 12, 41, tzinfo=datetime.timezone.utc)}, {'Tweet': 'What the next #PresidentialDebate should talk about is whether or not should #America continue to do or for US corp… https://t.co/oFd9Hnqu4n', 'Timestamp': datetime.datetime(2022, 6, 13, 4, 8, 43, tzinfo=datetime.timezone.utc)}, {'Tweet': 'RT @wemimospot: No insults, point for point ONLY.\\n\\nCampaign for your candidate for #NigeriaDecides2023 \\n\\nWhy do you want Peter Obi?\\n\\nWhy is…', 'Timestamp': datetime.datetime(2022, 6, 12, 21, 56, 45, tzinfo=datetime.timezone.utc)}, {'Tweet': '@SERAPNigeria @atiku @officialABAT @PeterObi @KwankwasoRM @YPPNational @Pres_Adebayo @YeleSowore @DumebiKachikwu Wh… https://t.co/Nqehru9Qn6', 'Timestamp': datetime.datetime(2022, 6, 12, 21, 8, 41, tzinfo=datetime.timezone.utc)}, {'Tweet': 'RT @wemimospot: No insults, point for point ONLY.\\n\\nCampaign for your candidate for #NigeriaDecides2023 \\n\\nWhy do you want Peter Obi?\\n\\nWhy is…', 'Timestamp': datetime.datetime(2022, 6, 12, 21, 5, 16, tzinfo=datetime.timezone.utc)}, {'Tweet': 'RT @wemimospot: No insults, point for point ONLY.\\n\\nCampaign for your candidate for #NigeriaDecides2023 \\n\\nWhy do you want Peter Obi?\\n\\nWhy is…', 'Timestamp': datetime.datetime(2022, 6, 12, 21, 3, 49, tzinfo=datetime.timezone.utc)}, {'Tweet': 'RT @wemimospot: No insults, point for point ONLY.\\n\\nCampaign for your candidate for #NigeriaDecides2023 \\n\\nWhy do you want Peter Obi?\\n\\nWhy is…', 'Timestamp': datetime.datetime(2022, 6, 12, 20, 38, 3, tzinfo=datetime.timezone.utc)}, {'Tweet': 'RT @wemimospot: No insults, point for point ONLY.\\n\\nCampaign for your candidate for #NigeriaDecides2023 \\n\\nWhy do you want Peter Obi?\\n\\nWhy is…', 'Timestamp': datetime.datetime(2022, 6, 12, 20, 37, 34, tzinfo=datetime.timezone.utc)}, {'Tweet': 'RT @wemimospot: No insults, point for point ONLY.\\n\\nCampaign for your candidate for #NigeriaDecides2023 \\n\\nWhy do you want Peter Obi?\\n\\nWhy is…', 'Timestamp': datetime.datetime(2022, 6, 12, 20, 24, 24, tzinfo=datetime.timezone.utc)}, {'Tweet': 'RT @wemimospot: No insults, point for point ONLY.\\n\\nCampaign for your candidate for #NigeriaDecides2023 \\n\\nWhy do you want Peter Obi?\\n\\nWhy is…', 'Timestamp': datetime.datetime(2022, 6, 12, 20, 22, 37, tzinfo=datetime.timezone.utc)}, {'Tweet': 'RT @wemimospot: No insults, point for point ONLY.\\n\\nCampaign for your candidate for #NigeriaDecides2023 \\n\\nWhy do you want Peter Obi?\\n\\nWhy is…', 'Timestamp': datetime.datetime(2022, 6, 12, 20, 8, 5, tzinfo=datetime.timezone.utc)}, {'Tweet': 'RT @wemimospot: No insults, point for point ONLY.\\n\\nCampaign for your candidate for #NigeriaDecides2023 \\n\\nWhy do you want Peter Obi?\\n\\nWhy is…', 'Timestamp': datetime.datetime(2022, 6, 12, 20, 7, 19, tzinfo=datetime.timezone.utc)}, {'Tweet': 'No insults, point for point ONLY.\\n\\nCampaign for your candidate for #NigeriaDecides2023 \\n\\nWhy do you want Peter Obi?… https://t.co/WXcjXRxXDg', 'Timestamp': datetime.datetime(2022, 6, 12, 20, 6, 51, tzinfo=datetime.timezone.utc)}, {'Tweet': \"The reason Ruto don't want to appear on #PresidentialDebate is what just happened at his residence . @ntvkenya Unpr… https://t.co/IffUNWZcVu\", 'Timestamp': datetime.datetime(2022, 6, 12, 20, 4, 8, tzinfo=datetime.timezone.utc)}, {'Tweet': 'RT @alfu_254: The kind of questions Joe Ageyo prioritised for #TheRutoAgenda interview is exactly why Ruto is right about snubbing the #Pre…', 'Timestamp': datetime.datetime(2022, 6, 12, 19, 32, 12, tzinfo=datetime.timezone.utc)}, {'Tweet': 'The kind of questions Joe Ageyo prioritised for #TheRutoAgenda interview is exactly why Ruto is right about snubbin… https://t.co/qwZ3dCP0IR', 'Timestamp': datetime.datetime(2022, 6, 12, 19, 8, 49, tzinfo=datetime.timezone.utc)}, {'Tweet': 'RT @WSjp_insight: 1st US #PresidentialDebate 09/29/2020 - hosted by cwru &amp; ClevelandClinic\\n🇺🇸#Debates2020 #COVID19 \\nhttps://t.co/65GKfg68lP…', 'Timestamp': datetime.datetime(2022, 6, 12, 14, 45, 49, tzinfo=datetime.timezone.utc)}, {'Tweet': \"RT @WSjp_insight: 1st US #PresidentialDebate'16 excerpts.. https://t.co/IAxalj6Gxi @bencasselman @MelbInstUOM,@LaurenRosewarne,@Government_…\", 'Timestamp': datetime.datetime(2022, 6, 12, 14, 45, 40, tzinfo=datetime.timezone.utc)}, {'Tweet': 'Weighed my options, made my decision\\n\\n officially OBIdient\\nNo turning back \\n#getyourpvc #PeterObi4President2023… https://t.co/xCv4UGd0Uw', 'Timestamp': datetime.datetime(2022, 6, 12, 12, 10, 8, tzinfo=datetime.timezone.utc)}, {'Tweet': \"APC and PDP are now busy searching for VP's that will represent them at the #PresidentialDebate .\\n@PeterObi is chan… https://t.co/JhoPK4kLth\", 'Timestamp': datetime.datetime(2022, 6, 11, 22, 22, 53, tzinfo=datetime.timezone.utc)}, {'Tweet': 'What is the 30-60-90-120 days economic plan for the incoming-president  #2023\\n\\nHigh crude oil prices\\nSupply chain (… https://t.co/i7U7wLJVur', 'Timestamp': datetime.datetime(2022, 6, 11, 21, 39, 44, tzinfo=datetime.timezone.utc)}, {'Tweet': 'RT @ParrishCollins: AOC+3. Great T-shirt  #presidentialdebate', 'Timestamp': datetime.datetime(2022, 6, 11, 16, 54, 27, tzinfo=datetime.timezone.utc)}, {'Tweet': 'RT @ParrishCollins: #presidentialdebate choice in healthcare is not Socialism', 'Timestamp': datetime.datetime(2022, 6, 11, 16, 54, 24, tzinfo=datetime.timezone.utc)}, {'Tweet': 'RT @WSjp_insight: 2nd US #PresidentialDebate articles https://t.co/3uiHbyyVnD WUSTL bpolitics TPM nprpolitics HuffPostPol thedailybeast the…', 'Timestamp': datetime.datetime(2022, 6, 11, 14, 54, 50, tzinfo=datetime.timezone.utc)}, {'Tweet': 'RT @WSjp_insight: 1st US #PresidentialDebate 09/29/2020 - hosted by cwru &amp; ClevelandClinic\\n🇺🇸#Debates2020 #COVID19 \\nhttps://t.co/65GKfg68lP…', 'Timestamp': datetime.datetime(2022, 6, 11, 14, 52, 30, tzinfo=datetime.timezone.utc)}, {'Tweet': \"RT @WSjp_insight: 1st US #PresidentialDebate'16 excerpts.. https://t.co/IAxalj6Gxi @bencasselman @MelbInstUOM,@LaurenRosewarne,@Government_…\", 'Timestamp': datetime.datetime(2022, 6, 11, 14, 52, tzinfo=datetime.timezone.utc)}, {'Tweet': \"RT @RobertdeHeer2: Donald an Hillary singing 'Time of my life' @Lucky_TV https://t.co/tTASyGYB9v\\n#luckytv #trump #clinton #PresidentialDeba…\", 'Timestamp': datetime.datetime(2022, 6, 11, 13, 1, 56, tzinfo=datetime.timezone.utc)}, {'Tweet': \"RT @RobertdeHeer2: Donald an Hillary singing 'Time of my life' @Lucky_TV https://t.co/tTASyGYB9v\\n#luckytv #trump #clinton #PresidentialDeba…\", 'Timestamp': datetime.datetime(2022, 6, 11, 12, 57, 1, tzinfo=datetime.timezone.utc)}, {'Tweet': 'RT @bigsisbigsis4: Get up and do it.\\n#presidentialdebate https://t.co/3PiynH0QA0', 'Timestamp': datetime.datetime(2022, 6, 10, 15, 49, 30, tzinfo=datetime.timezone.utc)}, {'Tweet': 'Get up and do it.\\n#presidentialdebate https://t.co/3PiynH0QA0', 'Timestamp': datetime.datetime(2022, 6, 10, 15, 49, 12, tzinfo=datetime.timezone.utc)}, {'Tweet': '#presidentialdebate \\n\\nThis time we insist they must be a presidential debate or inec should be disqualified', 'Timestamp': datetime.datetime(2022, 6, 10, 15, 45, 40, tzinfo=datetime.timezone.utc)}, {'Tweet': 'RT @bigsisbigsis4: Why do you want to cook for Nigerians???\\nWhat do you want to cook for Nigerians?? \\nIs the food you want to cook for Nige…', 'Timestamp': datetime.datetime(2022, 6, 10, 8, 36, 9, tzinfo=datetime.timezone.utc)}, {'Tweet': 'I wanna know how involved #Trump was in the planning with #ProudBoys and #OathKeepers for #Jan6 before the… https://t.co/PigPxmfn9Y', 'Timestamp': datetime.datetime(2022, 6, 10, 2, 45, tzinfo=datetime.timezone.utc)}, {'Tweet': 'Why do you want to cook for Nigerians???\\nWhat do you want to cook for Nigerians?? \\nIs the food you want to cook for… https://t.co/5xTQf85CEn', 'Timestamp': datetime.datetime(2022, 6, 9, 20, 44, 24, tzinfo=datetime.timezone.utc)}, {'Tweet': \"I can't wait for the presidential debate.\\n\\nThis time, we have to insist all party aspirant must appear before the t… https://t.co/3KLvFXagYc\", 'Timestamp': datetime.datetime(2022, 6, 9, 18, 0, 55, tzinfo=datetime.timezone.utc)}, {'Tweet': 'RT @WSjp_insight: Final(2nd)US🇺🇸#PresidentialDebate 10/22/2020 BelmontUniv #debate,#Debates2020 \\nhttps://t.co/IxTYG359i2\\nnewsmax MotherJone…', 'Timestamp': datetime.datetime(2022, 6, 9, 14, 39, 4, tzinfo=datetime.timezone.utc)}, {'Tweet': 'RT @WSjp_insight: 3rd US #PresidentialDebate articles https://t.co/64dClOHu2m BerkeleyISchool Center4Politics YouGovUS KelloggSchool cage_w…', 'Timestamp': datetime.datetime(2022, 6, 9, 14, 38, 59, tzinfo=datetime.timezone.utc)}, {'Tweet': 'RT @WSjp_insight: 1st US #PresidentialDebate 09/29/2020\\n🇺🇸#Debates2020 #TrumpBidenDebate\\nhttps://t.co/DfBnubTidB\\nPBS,NewsHour CBSNews NBCPo…', 'Timestamp': datetime.datetime(2022, 6, 9, 14, 36, 35, tzinfo=datetime.timezone.utc)}, {'Tweet': 'RT @WSjp_insight: 2nd US #PresidentialDebate articles https://t.co/3uiHbyyVnD WUSTL bpolitics TPM nprpolitics HuffPostPol thedailybeast the…', 'Timestamp': datetime.datetime(2022, 6, 9, 14, 36, 25, tzinfo=datetime.timezone.utc)}, {'Tweet': '@timidakolo @inecnigeria We insist! #Presidentialdebate', 'Timestamp': datetime.datetime(2022, 6, 9, 12, 18, 16, tzinfo=datetime.timezone.utc)}, {'Tweet': '@ARISEtv @seunokin @CTVpolitics Please we need to see Presidential debate involving all candidates from all parties… https://t.co/QEWnDaHBFt', 'Timestamp': datetime.datetime(2022, 6, 9, 8, 21, 37, tzinfo=datetime.timezone.utc)}, {'Tweet': '@inecnigeria if you fail to give nigerians a debate, you have 55 marks out of 100\\n#presidentialdebate https://t.co/ROgzl6R4Mo', 'Timestamp': datetime.datetime(2022, 6, 9, 7, 42, 4, tzinfo=datetime.timezone.utc)}, {'Tweet': 'We need presidential debate. This time around, we insist.\\n\\n#PresidentialDebate\\n#Tinubu\\n#Atiku\\n#PeterObi \\n#2023Elections \\n#GetYourPVC', 'Timestamp': datetime.datetime(2022, 6, 9, 6, 56, 43, tzinfo=datetime.timezone.utc)}, {'Tweet': 'I can already picture Reuben Abati or maybe Maupe coordinating 🔥🔥#PresidentialDebate https://t.co/EBPUfVpJq6', 'Timestamp': datetime.datetime(2022, 6, 8, 22, 33, 2, tzinfo=datetime.timezone.utc)}, {'Tweet': '#Wajackoyah will trounce the other candidates during the #PresidentialDebate he his very articulate. #WajackoyahThe5th', 'Timestamp': datetime.datetime(2022, 6, 8, 19, 59, 42, tzinfo=datetime.timezone.utc)}, {'Tweet': 'Dear @inecnigeria \\nThis time we must insist on the PRESIDENTIAL DEBATE\\n\\nIf you don’t show up, you should be disqual… https://t.co/RhGgJDFFof', 'Timestamp': datetime.datetime(2022, 6, 8, 18, 30, 16, tzinfo=datetime.timezone.utc)}, {'Tweet': 'RT @WSjp_insight: 1st US #PresidentialDebate 09/29/2020\\n🇺🇸#Debates2020 #TrumpBidenDebate\\nhttps://t.co/DfBnubTidB\\nPBS,NewsHour CBSNews NBCPo…', 'Timestamp': datetime.datetime(2022, 6, 8, 14, 48, 6, tzinfo=datetime.timezone.utc)}, {'Tweet': 'RT @WSjp_insight: 2nd US #PresidentialDebate articles https://t.co/3uiHbyyVnD WUSTL bpolitics TPM nprpolitics HuffPostPol thedailybeast the…', 'Timestamp': datetime.datetime(2022, 6, 8, 14, 47, 43, tzinfo=datetime.timezone.utc)}, {'Tweet': 'RT @bigsisbigsis4: So for anyone who wants to be president of Nigeria. Should please come tell us Nigerians, cus we deserve to know what th…', 'Timestamp': datetime.datetime(2022, 6, 8, 14, 41, 7, tzinfo=datetime.timezone.utc)}, {'Tweet': 'So for anyone who wants to be president of Nigeria. Should please come tell us Nigerians, cus we deserve to know wh… https://t.co/F3j5rbLbdc', 'Timestamp': datetime.datetime(2022, 6, 8, 14, 40, 5, tzinfo=datetime.timezone.utc)}, {'Tweet': 'RT @Elijah813555104: Please what will #presidentialdebate looking like between Peter Obi and Atiku and Tinubu?', 'Timestamp': datetime.datetime(2022, 6, 8, 13, 21, 14, tzinfo=datetime.timezone.utc)}, {'Tweet': 'Please what will #presidentialdebate looking like between Peter Obi and Atiku and Tinubu?', 'Timestamp': datetime.datetime(2022, 6, 8, 12, 45, 23, tzinfo=datetime.timezone.utc)}, {'Tweet': '#weinsist #presidentialdebate #inec https://t.co/dRo5wwr3G9', 'Timestamp': datetime.datetime(2022, 6, 8, 12, 41, 44, tzinfo=datetime.timezone.utc)}, {'Tweet': 'RT @R6ehaviour: The presidential debate has to be made compulsory. Nigerians deserve it. #PresidentialDebate #PDPPrimaries #APCPrimaries #I…', 'Timestamp': datetime.datetime(2022, 6, 8, 2, 59, 45, tzinfo=datetime.timezone.utc)}, {'Tweet': 'RT @R6ehaviour: The presidential debate has to be made compulsory. Nigerians deserve it. #PresidentialDebate #PDPPrimaries #APCPrimaries #I…', 'Timestamp': datetime.datetime(2022, 6, 8, 2, 49, 27, tzinfo=datetime.timezone.utc)}, {'Tweet': 'The presidential debate has to be made compulsory. Nigerians deserve it. #PresidentialDebate #PDPPrimaries #APCPrimaries #INEC', 'Timestamp': datetime.datetime(2022, 6, 8, 2, 30, 8, tzinfo=datetime.timezone.utc)}, {'Tweet': 'RT @unknownisu: #PresidentialDebate between Atiku, Obi and Yemi would be amazing. APC decide let’s move to the next level!#APCPresidentialP…', 'Timestamp': datetime.datetime(2022, 6, 7, 23, 30, 9, tzinfo=datetime.timezone.utc)}, {'Tweet': '#PresidentialDebate between Atiku, Obi and Yemi would be amazing. APC decide let’s move to the next level!#APCPresidentialPrimaries', 'Timestamp': datetime.datetime(2022, 6, 7, 23, 28, 25, tzinfo=datetime.timezone.utc)}, {'Tweet': 'RT @arhuorhivwo: @Mindset_tweet Take it from me:\\n\\nthis Tinubu who we just listened to in this #APCConvention WILL NEVER accept a #President…', 'Timestamp': datetime.datetime(2022, 6, 7, 20, 57, 1, tzinfo=datetime.timezone.utc)}, {'Tweet': '@Mindset_tweet Take it from me:\\n\\nthis Tinubu who we just listened to in this #APCConvention WILL NEVER accept a… https://t.co/rbqVOdZ6n5', 'Timestamp': datetime.datetime(2022, 6, 7, 20, 23, 14, tzinfo=datetime.timezone.utc)}, {'Tweet': 'RT @WSjp_insight: 1st US #PresidentialDebate 09/29/2020 - hosted by cwru &amp; ClevelandClinic\\n🇺🇸#Debates2020 #COVID19 \\nhttps://t.co/65GKfg68lP…', 'Timestamp': datetime.datetime(2022, 6, 7, 14, 56, 27, tzinfo=datetime.timezone.utc)}, {'Tweet': \"RT @WSjp_insight: 1st US #PresidentialDebate'16 excerpts.. https://t.co/IAxalj6Gxi @bencasselman @MelbInstUOM,@LaurenRosewarne,@Government_…\", 'Timestamp': datetime.datetime(2022, 6, 7, 14, 56, 18, tzinfo=datetime.timezone.utc)}, {'Tweet': 'RT @FreeHugsProject: #PresidentialDebate2020 #PresidentialDebate #Unpresidential https://t.co/uu9GHIsbvF', 'Timestamp': datetime.datetime(2022, 6, 6, 19, 50, 29, tzinfo=datetime.timezone.utc)}, {'Tweet': \"RT @DwayneFuhlhage: Of course my $0.99 Trump necktie was made in China, just like Ivanka's purses and clothing. #PresidentialDebate https:/…\", 'Timestamp': datetime.datetime(2022, 6, 5, 19, 32, 16, tzinfo=datetime.timezone.utc)}, {'Tweet': 'RT @WSjp_insight: Final(2nd)US🇺🇸#PresidentialDebate 10/22/2020 BelmontUniv #debate,#Debates2020 \\nhttps://t.co/IxTYG359i2\\nnewsmax MotherJone…', 'Timestamp': datetime.datetime(2022, 6, 5, 13, 56, 6, tzinfo=datetime.timezone.utc)}, {'Tweet': 'RT @WSjp_insight: 3rd US #PresidentialDebate articles https://t.co/64dClOHu2m BerkeleyISchool Center4Politics YouGovUS KelloggSchool cage_w…', 'Timestamp': datetime.datetime(2022, 6, 5, 13, 55, 55, tzinfo=datetime.timezone.utc)}, {'Tweet': 'RT @WSjp_insight: 1st US #PresidentialDebate 09/29/2020\\n🇺🇸#Debates2020 #TrumpBidenDebate\\nhttps://t.co/DfBnubTidB\\nPBS,NewsHour CBSNews NBCPo…', 'Timestamp': datetime.datetime(2022, 6, 5, 13, 47, 6, tzinfo=datetime.timezone.utc)}, {'Tweet': 'RT @WSjp_insight: 2nd US #PresidentialDebate articles https://t.co/3uiHbyyVnD WUSTL bpolitics TPM nprpolitics HuffPostPol thedailybeast the…', 'Timestamp': datetime.datetime(2022, 6, 5, 13, 46, 50, tzinfo=datetime.timezone.utc)}]\n"
     ]
    }
   ],
   "source": [
    "hashtag = \"#presidentialdebate\"\n",
    "query = tw.Cursor(api.search_tweets, q=hashtag).items(1000)\n",
    "tweets = [{'Tweet':tweet.text, 'Timestamp':tweet.created_at} for tweet in query]\n",
    "print(tweets)"
   ]
  },
  {
   "cell_type": "code",
   "execution_count": 28,
   "metadata": {},
   "outputs": [
    {
     "data": {
      "text/html": [
       "<div>\n",
       "<style scoped>\n",
       "    .dataframe tbody tr th:only-of-type {\n",
       "        vertical-align: middle;\n",
       "    }\n",
       "\n",
       "    .dataframe tbody tr th {\n",
       "        vertical-align: top;\n",
       "    }\n",
       "\n",
       "    .dataframe thead th {\n",
       "        text-align: right;\n",
       "    }\n",
       "</style>\n",
       "<table border=\"1\" class=\"dataframe\">\n",
       "  <thead>\n",
       "    <tr style=\"text-align: right;\">\n",
       "      <th></th>\n",
       "      <th>Tweet</th>\n",
       "      <th>Timestamp</th>\n",
       "    </tr>\n",
       "  </thead>\n",
       "  <tbody>\n",
       "    <tr>\n",
       "      <th>0</th>\n",
       "      <td>RT @wemimospot: No insults, point for point ON...</td>\n",
       "      <td>2022-06-13 18:47:12+00:00</td>\n",
       "    </tr>\n",
       "    <tr>\n",
       "      <th>1</th>\n",
       "      <td>RT @WSjp_insight: 1st US #PresidentialDebate 0...</td>\n",
       "      <td>2022-06-13 13:49:43+00:00</td>\n",
       "    </tr>\n",
       "    <tr>\n",
       "      <th>2</th>\n",
       "      <td>RT @WSjp_insight: 1st US #PresidentialDebate'1...</td>\n",
       "      <td>2022-06-13 13:49:36+00:00</td>\n",
       "    </tr>\n",
       "    <tr>\n",
       "      <th>3</th>\n",
       "      <td>I so much anticipate the next Nig Presidential...</td>\n",
       "      <td>2022-06-13 12:51:35+00:00</td>\n",
       "    </tr>\n",
       "    <tr>\n",
       "      <th>4</th>\n",
       "      <td>No insults, point for point ONLY.\\n\\nCampaign ...</td>\n",
       "      <td>2022-06-13 11:55:51+00:00</td>\n",
       "    </tr>\n",
       "  </tbody>\n",
       "</table>\n",
       "</div>"
      ],
      "text/plain": [
       "                                               Tweet                 Timestamp\n",
       "0  RT @wemimospot: No insults, point for point ON... 2022-06-13 18:47:12+00:00\n",
       "1  RT @WSjp_insight: 1st US #PresidentialDebate 0... 2022-06-13 13:49:43+00:00\n",
       "2  RT @WSjp_insight: 1st US #PresidentialDebate'1... 2022-06-13 13:49:36+00:00\n",
       "3  I so much anticipate the next Nig Presidential... 2022-06-13 12:51:35+00:00\n",
       "4  No insults, point for point ONLY.\\n\\nCampaign ... 2022-06-13 11:55:51+00:00"
      ]
     },
     "execution_count": 28,
     "metadata": {},
     "output_type": "execute_result"
    }
   ],
   "source": [
    "df = pd.DataFrame.from_dict(tweets)\n",
    "df.head()"
   ]
  },
  {
   "cell_type": "code",
   "execution_count": 29,
   "metadata": {},
   "outputs": [],
   "source": [
    "trump_handle = ['DonaldTrump', 'Donald Trump', 'Donald', 'Trump', 'Trump\\'s']\n",
    "biden_handle = ['JoeBiden', 'Joe Biden', 'Joe', 'Biden', 'Biden\\'s']"
   ]
  },
  {
   "cell_type": "code",
   "execution_count": 30,
   "metadata": {},
   "outputs": [
    {
     "data": {
      "text/html": [
       "<div>\n",
       "<style scoped>\n",
       "    .dataframe tbody tr th:only-of-type {\n",
       "        vertical-align: middle;\n",
       "    }\n",
       "\n",
       "    .dataframe tbody tr th {\n",
       "        vertical-align: top;\n",
       "    }\n",
       "\n",
       "    .dataframe thead th {\n",
       "        text-align: right;\n",
       "    }\n",
       "</style>\n",
       "<table border=\"1\" class=\"dataframe\">\n",
       "  <thead>\n",
       "    <tr style=\"text-align: right;\">\n",
       "      <th></th>\n",
       "      <th>Tweet</th>\n",
       "      <th>Timestamp</th>\n",
       "      <th>Trump</th>\n",
       "      <th>Biden</th>\n",
       "    </tr>\n",
       "  </thead>\n",
       "  <tbody>\n",
       "    <tr>\n",
       "      <th>0</th>\n",
       "      <td>RT @wemimospot: No insults, point for point ON...</td>\n",
       "      <td>2022-06-13 18:47:12+00:00</td>\n",
       "      <td>0</td>\n",
       "      <td>0</td>\n",
       "    </tr>\n",
       "    <tr>\n",
       "      <th>1</th>\n",
       "      <td>RT @WSjp_insight: 1st US #PresidentialDebate 0...</td>\n",
       "      <td>2022-06-13 13:49:43+00:00</td>\n",
       "      <td>0</td>\n",
       "      <td>0</td>\n",
       "    </tr>\n",
       "    <tr>\n",
       "      <th>2</th>\n",
       "      <td>RT @WSjp_insight: 1st US #PresidentialDebate'1...</td>\n",
       "      <td>2022-06-13 13:49:36+00:00</td>\n",
       "      <td>0</td>\n",
       "      <td>0</td>\n",
       "    </tr>\n",
       "    <tr>\n",
       "      <th>3</th>\n",
       "      <td>I so much anticipate the next Nig Presidential...</td>\n",
       "      <td>2022-06-13 12:51:35+00:00</td>\n",
       "      <td>0</td>\n",
       "      <td>0</td>\n",
       "    </tr>\n",
       "    <tr>\n",
       "      <th>4</th>\n",
       "      <td>No insults, point for point ONLY.\\n\\nCampaign ...</td>\n",
       "      <td>2022-06-13 11:55:51+00:00</td>\n",
       "      <td>0</td>\n",
       "      <td>0</td>\n",
       "    </tr>\n",
       "    <tr>\n",
       "      <th>5</th>\n",
       "      <td>RT @wemimospot: No insults, point for point ON...</td>\n",
       "      <td>2022-06-13 09:36:29+00:00</td>\n",
       "      <td>0</td>\n",
       "      <td>0</td>\n",
       "    </tr>\n",
       "    <tr>\n",
       "      <th>6</th>\n",
       "      <td>RT @wemimospot: No insults, point for point ON...</td>\n",
       "      <td>2022-06-13 09:14:49+00:00</td>\n",
       "      <td>0</td>\n",
       "      <td>0</td>\n",
       "    </tr>\n",
       "    <tr>\n",
       "      <th>7</th>\n",
       "      <td>RT @wemimospot: No insults, point for point ON...</td>\n",
       "      <td>2022-06-13 07:12:41+00:00</td>\n",
       "      <td>0</td>\n",
       "      <td>0</td>\n",
       "    </tr>\n",
       "    <tr>\n",
       "      <th>8</th>\n",
       "      <td>What the next #PresidentialDebate should talk ...</td>\n",
       "      <td>2022-06-13 04:08:43+00:00</td>\n",
       "      <td>0</td>\n",
       "      <td>0</td>\n",
       "    </tr>\n",
       "    <tr>\n",
       "      <th>9</th>\n",
       "      <td>RT @wemimospot: No insults, point for point ON...</td>\n",
       "      <td>2022-06-12 21:56:45+00:00</td>\n",
       "      <td>0</td>\n",
       "      <td>0</td>\n",
       "    </tr>\n",
       "  </tbody>\n",
       "</table>\n",
       "</div>"
      ],
      "text/plain": [
       "                                               Tweet  \\\n",
       "0  RT @wemimospot: No insults, point for point ON...   \n",
       "1  RT @WSjp_insight: 1st US #PresidentialDebate 0...   \n",
       "2  RT @WSjp_insight: 1st US #PresidentialDebate'1...   \n",
       "3  I so much anticipate the next Nig Presidential...   \n",
       "4  No insults, point for point ONLY.\\n\\nCampaign ...   \n",
       "5  RT @wemimospot: No insults, point for point ON...   \n",
       "6  RT @wemimospot: No insults, point for point ON...   \n",
       "7  RT @wemimospot: No insults, point for point ON...   \n",
       "8  What the next #PresidentialDebate should talk ...   \n",
       "9  RT @wemimospot: No insults, point for point ON...   \n",
       "\n",
       "                  Timestamp  Trump  Biden  \n",
       "0 2022-06-13 18:47:12+00:00      0      0  \n",
       "1 2022-06-13 13:49:43+00:00      0      0  \n",
       "2 2022-06-13 13:49:36+00:00      0      0  \n",
       "3 2022-06-13 12:51:35+00:00      0      0  \n",
       "4 2022-06-13 11:55:51+00:00      0      0  \n",
       "5 2022-06-13 09:36:29+00:00      0      0  \n",
       "6 2022-06-13 09:14:49+00:00      0      0  \n",
       "7 2022-06-13 07:12:41+00:00      0      0  \n",
       "8 2022-06-13 04:08:43+00:00      0      0  \n",
       "9 2022-06-12 21:56:45+00:00      0      0  "
      ]
     },
     "execution_count": 30,
     "metadata": {},
     "output_type": "execute_result"
    }
   ],
   "source": [
    "def identify_subject(tweet, refs):\n",
    "    flag = 0 \n",
    "    for ref in refs:\n",
    "        if tweet.find(ref) != -1:\n",
    "            flag = 1\n",
    "    return flag\n",
    "\n",
    "df['Trump'] = df['Tweet'].apply(lambda x: identify_subject(x, trump_handle)) \n",
    "df['Biden'] = df['Tweet'].apply(lambda x: identify_subject(x, biden_handle))\n",
    "df.head(10)"
   ]
  },
  {
   "cell_type": "markdown",
   "metadata": {},
   "source": [
    "# 3. Preprocess"
   ]
  },
  {
   "cell_type": "code",
   "execution_count": 32,
   "metadata": {},
   "outputs": [
    {
     "name": "stdout",
     "output_type": "stream",
     "text": [
      "Collecting textblob\n",
      "  Downloading textblob-0.17.1-py2.py3-none-any.whl (636 kB)\n",
      "\u001b[2K     \u001b[90m━━━━━━━━━━━━━━━━━━━━━━━━━━━━━━━━━━━━━━━\u001b[0m \u001b[32m636.8/636.8 KB\u001b[0m \u001b[31m9.6 MB/s\u001b[0m eta \u001b[36m0:00:00\u001b[0m00:01\u001b[0m\n",
      "\u001b[?25hRequirement already satisfied: nltk>=3.1 in /Users/vinay/opt/anaconda3/lib/python3.8/site-packages (from textblob) (3.6.1)\n",
      "Requirement already satisfied: tqdm in /Users/vinay/opt/anaconda3/lib/python3.8/site-packages (from nltk>=3.1->textblob) (4.59.0)\n",
      "Requirement already satisfied: click in /Users/vinay/opt/anaconda3/lib/python3.8/site-packages (from nltk>=3.1->textblob) (7.1.2)\n",
      "Requirement already satisfied: regex in /Users/vinay/opt/anaconda3/lib/python3.8/site-packages (from nltk>=3.1->textblob) (2021.4.4)\n",
      "Requirement already satisfied: joblib in /Users/vinay/opt/anaconda3/lib/python3.8/site-packages (from nltk>=3.1->textblob) (1.0.1)\n",
      "Installing collected packages: textblob\n",
      "Successfully installed textblob-0.17.1\n",
      "\u001b[33mWARNING: You are using pip version 22.0.4; however, version 22.1.2 is available.\n",
      "You should consider upgrading via the '/Users/vinay/opt/anaconda3/bin/python -m pip install --upgrade pip' command.\u001b[0m\u001b[33m\n",
      "\u001b[0m"
     ]
    }
   ],
   "source": [
    "!pip install textblob"
   ]
  },
  {
   "cell_type": "code",
   "execution_count": 33,
   "metadata": {},
   "outputs": [],
   "source": [
    "# Import stopwords\n",
    "import nltk\n",
    "from nltk.corpus import stopwords\n",
    "\n",
    "# Import textblob\n",
    "from textblob import Word, TextBlob"
   ]
  },
  {
   "cell_type": "code",
   "execution_count": 34,
   "metadata": {},
   "outputs": [
    {
     "name": "stderr",
     "output_type": "stream",
     "text": [
      "[nltk_data] Downloading package stopwords to /Users/vinay/nltk_data...\n",
      "[nltk_data]   Package stopwords is already up-to-date!\n",
      "[nltk_data] Downloading package wordnet to /Users/vinay/nltk_data...\n",
      "[nltk_data]   Package wordnet is already up-to-date!\n"
     ]
    }
   ],
   "source": [
    "nltk.download('stopwords')\n",
    "nltk.download('wordnet')\n",
    "stop_words = stopwords.words('english')\n",
    "custom_stopwords = ['RT', '#PresidentialDebate']"
   ]
  },
  {
   "cell_type": "code",
   "execution_count": 35,
   "metadata": {},
   "outputs": [
    {
     "data": {
      "text/html": [
       "<div>\n",
       "<style scoped>\n",
       "    .dataframe tbody tr th:only-of-type {\n",
       "        vertical-align: middle;\n",
       "    }\n",
       "\n",
       "    .dataframe tbody tr th {\n",
       "        vertical-align: top;\n",
       "    }\n",
       "\n",
       "    .dataframe thead th {\n",
       "        text-align: right;\n",
       "    }\n",
       "</style>\n",
       "<table border=\"1\" class=\"dataframe\">\n",
       "  <thead>\n",
       "    <tr style=\"text-align: right;\">\n",
       "      <th></th>\n",
       "      <th>Tweet</th>\n",
       "      <th>Timestamp</th>\n",
       "      <th>Trump</th>\n",
       "      <th>Biden</th>\n",
       "      <th>Processed Tweet</th>\n",
       "    </tr>\n",
       "  </thead>\n",
       "  <tbody>\n",
       "    <tr>\n",
       "      <th>0</th>\n",
       "      <td>RT @wemimospot: No insults, point for point ON...</td>\n",
       "      <td>2022-06-13 18:47:12+00:00</td>\n",
       "      <td>0</td>\n",
       "      <td>0</td>\n",
       "      <td>@wemimospot: No insults, point point ONLY. Cam...</td>\n",
       "    </tr>\n",
       "    <tr>\n",
       "      <th>1</th>\n",
       "      <td>RT @WSjp_insight: 1st US #PresidentialDebate 0...</td>\n",
       "      <td>2022-06-13 13:49:43+00:00</td>\n",
       "      <td>0</td>\n",
       "      <td>0</td>\n",
       "      <td>@WSjp_insight: 1st US 09/29/2020 - hosted cwru...</td>\n",
       "    </tr>\n",
       "    <tr>\n",
       "      <th>2</th>\n",
       "      <td>RT @WSjp_insight: 1st US #PresidentialDebate'1...</td>\n",
       "      <td>2022-06-13 13:49:36+00:00</td>\n",
       "      <td>0</td>\n",
       "      <td>0</td>\n",
       "      <td>@WSjp_insight: 1st US #PresidentialDebate'16 e...</td>\n",
       "    </tr>\n",
       "    <tr>\n",
       "      <th>3</th>\n",
       "      <td>I so much anticipate the next Nig Presidential...</td>\n",
       "      <td>2022-06-13 12:51:35+00:00</td>\n",
       "      <td>0</td>\n",
       "      <td>0</td>\n",
       "      <td>I much anticipate next Nig Presidential Debate...</td>\n",
       "    </tr>\n",
       "    <tr>\n",
       "      <th>4</th>\n",
       "      <td>No insults, point for point ONLY.\\n\\nCampaign ...</td>\n",
       "      <td>2022-06-13 11:55:51+00:00</td>\n",
       "      <td>0</td>\n",
       "      <td>0</td>\n",
       "      <td>No insults, point point ONLY. Campaign candida...</td>\n",
       "    </tr>\n",
       "  </tbody>\n",
       "</table>\n",
       "</div>"
      ],
      "text/plain": [
       "                                               Tweet  \\\n",
       "0  RT @wemimospot: No insults, point for point ON...   \n",
       "1  RT @WSjp_insight: 1st US #PresidentialDebate 0...   \n",
       "2  RT @WSjp_insight: 1st US #PresidentialDebate'1...   \n",
       "3  I so much anticipate the next Nig Presidential...   \n",
       "4  No insults, point for point ONLY.\\n\\nCampaign ...   \n",
       "\n",
       "                  Timestamp  Trump  Biden  \\\n",
       "0 2022-06-13 18:47:12+00:00      0      0   \n",
       "1 2022-06-13 13:49:43+00:00      0      0   \n",
       "2 2022-06-13 13:49:36+00:00      0      0   \n",
       "3 2022-06-13 12:51:35+00:00      0      0   \n",
       "4 2022-06-13 11:55:51+00:00      0      0   \n",
       "\n",
       "                                     Processed Tweet  \n",
       "0  @wemimospot: No insults, point point ONLY. Cam...  \n",
       "1  @WSjp_insight: 1st US 09/29/2020 - hosted cwru...  \n",
       "2  @WSjp_insight: 1st US #PresidentialDebate'16 e...  \n",
       "3  I much anticipate next Nig Presidential Debate...  \n",
       "4  No insults, point point ONLY. Campaign candida...  "
      ]
     },
     "execution_count": 35,
     "metadata": {},
     "output_type": "execute_result"
    }
   ],
   "source": [
    "def preprocess_tweets(tweet, custom_stopwords):\n",
    "    processed_tweet = tweet\n",
    "    processed_tweet.replace('[^\\w\\s]', '')\n",
    "    processed_tweet = \" \".join(word for word in processed_tweet.split() if word not in stop_words)\n",
    "    processed_tweet = \" \".join(word for word in processed_tweet.split() if word not in custom_stopwords)\n",
    "    processed_tweet = \" \".join(Word(word).lemmatize() for word in processed_tweet.split())\n",
    "    return(processed_tweet)\n",
    "\n",
    "df['Processed Tweet'] = df['Tweet'].apply(lambda x: preprocess_tweets(x, custom_stopwords))\n",
    "df.head()"
   ]
  },
  {
   "cell_type": "code",
   "execution_count": 36,
   "metadata": {},
   "outputs": [
    {
     "name": "stdout",
     "output_type": "stream",
     "text": [
      "Base review\n",
      " RT @wemimospot: No insults, point for point ONLY.\n",
      "\n",
      "Campaign for your candidate for #NigeriaDecides2023 \n",
      "\n",
      "Why do you want Peter Obi?\n",
      "\n",
      "Why is…\n",
      "\n",
      "------------------------------------\n",
      "\n",
      "Cleaned and lemmatized review\n",
      " @wemimospot: No insults, point point ONLY. Campaign candidate #NigeriaDecides2023 Why want Peter Obi? Why is…\n"
     ]
    }
   ],
   "source": [
    "print('Base review\\n', df['Tweet'][0])\n",
    "print('\\n------------------------------------\\n')\n",
    "print('Cleaned and lemmatized review\\n', df['Processed Tweet'][0])"
   ]
  },
  {
   "cell_type": "markdown",
   "metadata": {},
   "source": [
    "# 4. Calculate Sentiment"
   ]
  },
  {
   "cell_type": "code",
   "execution_count": 37,
   "metadata": {},
   "outputs": [
    {
     "data": {
      "text/html": [
       "<div>\n",
       "<style scoped>\n",
       "    .dataframe tbody tr th:only-of-type {\n",
       "        vertical-align: middle;\n",
       "    }\n",
       "\n",
       "    .dataframe tbody tr th {\n",
       "        vertical-align: top;\n",
       "    }\n",
       "\n",
       "    .dataframe thead th {\n",
       "        text-align: right;\n",
       "    }\n",
       "</style>\n",
       "<table border=\"1\" class=\"dataframe\">\n",
       "  <thead>\n",
       "    <tr style=\"text-align: right;\">\n",
       "      <th></th>\n",
       "      <th>Processed Tweet</th>\n",
       "      <th>Biden</th>\n",
       "      <th>Trump</th>\n",
       "      <th>polarity</th>\n",
       "      <th>subjectivity</th>\n",
       "    </tr>\n",
       "  </thead>\n",
       "  <tbody>\n",
       "    <tr>\n",
       "      <th>0</th>\n",
       "      <td>@wemimospot: No insults, point point ONLY. Cam...</td>\n",
       "      <td>0</td>\n",
       "      <td>0</td>\n",
       "      <td>0.0</td>\n",
       "      <td>1.0</td>\n",
       "    </tr>\n",
       "    <tr>\n",
       "      <th>1</th>\n",
       "      <td>@WSjp_insight: 1st US 09/29/2020 - hosted cwru...</td>\n",
       "      <td>0</td>\n",
       "      <td>0</td>\n",
       "      <td>0.0</td>\n",
       "      <td>0.0</td>\n",
       "    </tr>\n",
       "    <tr>\n",
       "      <th>2</th>\n",
       "      <td>@WSjp_insight: 1st US #PresidentialDebate'16 e...</td>\n",
       "      <td>0</td>\n",
       "      <td>0</td>\n",
       "      <td>0.0</td>\n",
       "      <td>0.0</td>\n",
       "    </tr>\n",
       "    <tr>\n",
       "      <th>3</th>\n",
       "      <td>I much anticipate next Nig Presidential Debate...</td>\n",
       "      <td>0</td>\n",
       "      <td>0</td>\n",
       "      <td>0.4</td>\n",
       "      <td>0.4</td>\n",
       "    </tr>\n",
       "    <tr>\n",
       "      <th>4</th>\n",
       "      <td>No insults, point point ONLY. Campaign candida...</td>\n",
       "      <td>0</td>\n",
       "      <td>0</td>\n",
       "      <td>0.0</td>\n",
       "      <td>1.0</td>\n",
       "    </tr>\n",
       "  </tbody>\n",
       "</table>\n",
       "</div>"
      ],
      "text/plain": [
       "                                     Processed Tweet  Biden  Trump  polarity  \\\n",
       "0  @wemimospot: No insults, point point ONLY. Cam...      0      0       0.0   \n",
       "1  @WSjp_insight: 1st US 09/29/2020 - hosted cwru...      0      0       0.0   \n",
       "2  @WSjp_insight: 1st US #PresidentialDebate'16 e...      0      0       0.0   \n",
       "3  I much anticipate next Nig Presidential Debate...      0      0       0.4   \n",
       "4  No insults, point point ONLY. Campaign candida...      0      0       0.0   \n",
       "\n",
       "   subjectivity  \n",
       "0           1.0  \n",
       "1           0.0  \n",
       "2           0.0  \n",
       "3           0.4  \n",
       "4           1.0  "
      ]
     },
     "execution_count": 37,
     "metadata": {},
     "output_type": "execute_result"
    }
   ],
   "source": [
    "# Calculate polarity\n",
    "df['polarity'] = df['Processed Tweet'].apply(lambda x: TextBlob(x).sentiment[0])\n",
    "df['subjectivity'] = df['Processed Tweet'].apply(lambda x: TextBlob(x).sentiment[1])\n",
    "df[['Processed Tweet', 'Biden', 'Trump', 'polarity', 'subjectivity']].head()"
   ]
  },
  {
   "cell_type": "code",
   "execution_count": 38,
   "metadata": {},
   "outputs": [
    {
     "data": {
      "text/html": [
       "<div>\n",
       "<style scoped>\n",
       "    .dataframe tbody tr th:only-of-type {\n",
       "        vertical-align: middle;\n",
       "    }\n",
       "\n",
       "    .dataframe tbody tr th {\n",
       "        vertical-align: top;\n",
       "    }\n",
       "\n",
       "    .dataframe thead tr th {\n",
       "        text-align: left;\n",
       "    }\n",
       "\n",
       "    .dataframe thead tr:last-of-type th {\n",
       "        text-align: right;\n",
       "    }\n",
       "</style>\n",
       "<table border=\"1\" class=\"dataframe\">\n",
       "  <thead>\n",
       "    <tr>\n",
       "      <th></th>\n",
       "      <th colspan=\"4\" halign=\"left\">polarity</th>\n",
       "      <th colspan=\"4\" halign=\"left\">subjectivity</th>\n",
       "    </tr>\n",
       "    <tr>\n",
       "      <th></th>\n",
       "      <th>mean</th>\n",
       "      <th>amax</th>\n",
       "      <th>amin</th>\n",
       "      <th>median</th>\n",
       "      <th>mean</th>\n",
       "      <th>amax</th>\n",
       "      <th>amin</th>\n",
       "      <th>median</th>\n",
       "    </tr>\n",
       "    <tr>\n",
       "      <th>Trump</th>\n",
       "      <th></th>\n",
       "      <th></th>\n",
       "      <th></th>\n",
       "      <th></th>\n",
       "      <th></th>\n",
       "      <th></th>\n",
       "      <th></th>\n",
       "      <th></th>\n",
       "    </tr>\n",
       "  </thead>\n",
       "  <tbody>\n",
       "    <tr>\n",
       "      <th>1</th>\n",
       "      <td>0.0</td>\n",
       "      <td>0.0</td>\n",
       "      <td>0.0</td>\n",
       "      <td>0.0</td>\n",
       "      <td>0.0</td>\n",
       "      <td>0.0</td>\n",
       "      <td>0.0</td>\n",
       "      <td>0.0</td>\n",
       "    </tr>\n",
       "  </tbody>\n",
       "</table>\n",
       "</div>"
      ],
      "text/plain": [
       "      polarity                  subjectivity                 \n",
       "          mean amax amin median         mean amax amin median\n",
       "Trump                                                        \n",
       "1          0.0  0.0  0.0    0.0          0.0  0.0  0.0    0.0"
      ]
     },
     "metadata": {},
     "output_type": "display_data"
    },
    {
     "data": {
      "text/html": [
       "<div>\n",
       "<style scoped>\n",
       "    .dataframe tbody tr th:only-of-type {\n",
       "        vertical-align: middle;\n",
       "    }\n",
       "\n",
       "    .dataframe tbody tr th {\n",
       "        vertical-align: top;\n",
       "    }\n",
       "\n",
       "    .dataframe thead tr th {\n",
       "        text-align: left;\n",
       "    }\n",
       "\n",
       "    .dataframe thead tr:last-of-type th {\n",
       "        text-align: right;\n",
       "    }\n",
       "</style>\n",
       "<table border=\"1\" class=\"dataframe\">\n",
       "  <thead>\n",
       "    <tr>\n",
       "      <th></th>\n",
       "      <th colspan=\"4\" halign=\"left\">polarity</th>\n",
       "      <th colspan=\"4\" halign=\"left\">subjectivity</th>\n",
       "    </tr>\n",
       "    <tr>\n",
       "      <th></th>\n",
       "      <th>mean</th>\n",
       "      <th>amax</th>\n",
       "      <th>amin</th>\n",
       "      <th>median</th>\n",
       "      <th>mean</th>\n",
       "      <th>amax</th>\n",
       "      <th>amin</th>\n",
       "      <th>median</th>\n",
       "    </tr>\n",
       "    <tr>\n",
       "      <th>Biden</th>\n",
       "      <th></th>\n",
       "      <th></th>\n",
       "      <th></th>\n",
       "      <th></th>\n",
       "      <th></th>\n",
       "      <th></th>\n",
       "      <th></th>\n",
       "      <th></th>\n",
       "    </tr>\n",
       "  </thead>\n",
       "  <tbody>\n",
       "    <tr>\n",
       "      <th>1</th>\n",
       "      <td>0.151429</td>\n",
       "      <td>0.378571</td>\n",
       "      <td>0.0</td>\n",
       "      <td>0.0</td>\n",
       "      <td>0.224762</td>\n",
       "      <td>0.561905</td>\n",
       "      <td>0.0</td>\n",
       "      <td>0.0</td>\n",
       "    </tr>\n",
       "  </tbody>\n",
       "</table>\n",
       "</div>"
      ],
      "text/plain": [
       "       polarity                       subjectivity                      \n",
       "           mean      amax amin median         mean      amax amin median\n",
       "Biden                                                                   \n",
       "1      0.151429  0.378571  0.0    0.0     0.224762  0.561905  0.0    0.0"
      ]
     },
     "execution_count": 38,
     "metadata": {},
     "output_type": "execute_result"
    }
   ],
   "source": [
    "display(df[df['Trump']==1][['Trump','polarity','subjectivity']].groupby('Trump').agg([np.mean, np.max, np.min, np.median]))\n",
    "df[df['Biden']==1][['Biden','polarity','subjectivity']].groupby('Biden').agg([np.mean, np.max, np.min, np.median])"
   ]
  },
  {
   "cell_type": "markdown",
   "metadata": {},
   "source": [
    "## 5. Visualise"
   ]
  },
  {
   "cell_type": "code",
   "execution_count": 39,
   "metadata": {},
   "outputs": [],
   "source": [
    "biden = df[df['Biden']==1][['Timestamp', 'polarity']]\n",
    "biden = biden.sort_values(by='Timestamp', ascending=True)\n",
    "biden['MA Polarity'] = biden.polarity.rolling(10, min_periods=3).mean()\n",
    "\n",
    "trump = df[df['Trump']==1][['Timestamp', 'polarity']]\n",
    "trump = trump.sort_values(by='Timestamp', ascending=True)\n",
    "trump['MA Polarity'] = trump.polarity.rolling(10, min_periods=3).mean()"
   ]
  },
  {
   "cell_type": "code",
   "execution_count": 40,
   "metadata": {
    "scrolled": true
   },
   "outputs": [
    {
     "data": {
      "text/html": [
       "<div>\n",
       "<style scoped>\n",
       "    .dataframe tbody tr th:only-of-type {\n",
       "        vertical-align: middle;\n",
       "    }\n",
       "\n",
       "    .dataframe tbody tr th {\n",
       "        vertical-align: top;\n",
       "    }\n",
       "\n",
       "    .dataframe thead th {\n",
       "        text-align: right;\n",
       "    }\n",
       "</style>\n",
       "<table border=\"1\" class=\"dataframe\">\n",
       "  <thead>\n",
       "    <tr style=\"text-align: right;\">\n",
       "      <th></th>\n",
       "      <th>Timestamp</th>\n",
       "      <th>polarity</th>\n",
       "      <th>MA Polarity</th>\n",
       "    </tr>\n",
       "  </thead>\n",
       "  <tbody>\n",
       "    <tr>\n",
       "      <th>73</th>\n",
       "      <td>2022-06-05 13:47:06+00:00</td>\n",
       "      <td>0.0</td>\n",
       "      <td>NaN</td>\n",
       "    </tr>\n",
       "    <tr>\n",
       "      <th>70</th>\n",
       "      <td>2022-06-05 19:32:16+00:00</td>\n",
       "      <td>0.0</td>\n",
       "      <td>NaN</td>\n",
       "    </tr>\n",
       "    <tr>\n",
       "      <th>53</th>\n",
       "      <td>2022-06-08 14:48:06+00:00</td>\n",
       "      <td>0.0</td>\n",
       "      <td>0.0</td>\n",
       "    </tr>\n",
       "    <tr>\n",
       "      <th>44</th>\n",
       "      <td>2022-06-09 14:36:35+00:00</td>\n",
       "      <td>0.0</td>\n",
       "      <td>0.0</td>\n",
       "    </tr>\n",
       "    <tr>\n",
       "      <th>39</th>\n",
       "      <td>2022-06-10 02:45:00+00:00</td>\n",
       "      <td>0.0</td>\n",
       "      <td>0.0</td>\n",
       "    </tr>\n",
       "  </tbody>\n",
       "</table>\n",
       "</div>"
      ],
      "text/plain": [
       "                   Timestamp  polarity  MA Polarity\n",
       "73 2022-06-05 13:47:06+00:00       0.0          NaN\n",
       "70 2022-06-05 19:32:16+00:00       0.0          NaN\n",
       "53 2022-06-08 14:48:06+00:00       0.0          0.0\n",
       "44 2022-06-09 14:36:35+00:00       0.0          0.0\n",
       "39 2022-06-10 02:45:00+00:00       0.0          0.0"
      ]
     },
     "execution_count": 40,
     "metadata": {},
     "output_type": "execute_result"
    }
   ],
   "source": [
    "trump.head()"
   ]
  },
  {
   "cell_type": "code",
   "execution_count": 41,
   "metadata": {},
   "outputs": [
    {
     "data": {
      "image/png": "[encoded data removed]",
      "text/plain": [
       "<Figure size 936x720 with 2 Axes>"
      ]
     },
     "metadata": {
      "needs_background": "light"
     },
     "output_type": "display_data"
    }
   ],
   "source": [
    "repub = 'red'\n",
    "demo = 'blue'\n",
    "fig, axes = plt.subplots(2, 1, figsize=(13, 10))\n",
    "\n",
    "axes[0].plot(biden['Timestamp'], biden['MA Polarity'])\n",
    "axes[0].set_title(\"\\n\".join([\"Biden Polarity\"]))\n",
    "axes[1].plot(trump['Timestamp'], trump['MA Polarity'], color='red')\n",
    "axes[1].set_title(\"\\n\".join([\"Trump Polarity\"]))\n",
    "\n",
    "fig.suptitle(\"\\n\".join([\"Presidential Debate Analysis\"]), y=0.98)\n",
    "\n",
    "plt.show()"
   ]
  },
  {
   "cell_type": "code",
   "execution_count": null,
   "metadata": {},
   "outputs": [],
   "source": []
  },
  {
   "cell_type": "code",
   "execution_count": null,
   "metadata": {},
   "outputs": [],
   "source": []
  }
 ],
 "metadata": {
  "kernelspec": {
   "display_name": "Python 3",
   "language": "python",
   "name": "python3"
  },
  "language_info": {
   "codemirror_mode": {
    "name": "ipython",
    "version": 3
   },
   "file_extension": ".py",
   "mimetype": "text/x-python",
   "name": "python",
   "nbconvert_exporter": "python",
   "pygments_lexer": "ipython3",
   "version": "3.8.8"
  }
 },
 "nbformat": 4,
 "nbformat_minor": 2
}
